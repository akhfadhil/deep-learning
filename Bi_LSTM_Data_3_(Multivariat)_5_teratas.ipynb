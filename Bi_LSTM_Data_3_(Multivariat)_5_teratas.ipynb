{
  "nbformat": 4,
  "nbformat_minor": 0,
  "metadata": {
    "colab": {
      "provenance": []
    },
    "kernelspec": {
      "name": "python3",
      "display_name": "Python 3"
    },
    "language_info": {
      "name": "python"
    }
  },
  "cells": [
    {
      "cell_type": "code",
      "execution_count": null,
      "metadata": {
        "id": "gkEL3KkBMvHe"
      },
      "outputs": [],
      "source": [
        "import pandas as pd\n",
        "from pandas import DataFrame\n",
        "from pandas import concat\n",
        "from matplotlib import pyplot\n",
        "from sklearn.preprocessing import MinMaxScaler\n",
        "import time\n",
        "from numpy import concatenate\n",
        "import numpy as np\n",
        "import seaborn as sns\n",
        "\n",
        "from sklearn.metrics import mean_squared_error\n",
        "from sklearn.metrics import mean_absolute_error\n",
        "from sklearn.metrics import r2_score\n",
        "from keras.layers import Bidirectional, LSTM, Dropout, Dense\n",
        "from tensorflow.python.keras import Sequential\n",
        "from math import sqrt;\n",
        "import tensorflow as tf"
      ]
    },
    {
      "cell_type": "code",
      "source": [
        "url = \"https://drive.google.com/file/d/1u95FUEFI29NV-LmdCRHzRwj-t4tWH87m/view?usp=share_link\"\n",
        "url='https://drive.google.com/uc?id=' + url.split('/')[-2]\n",
        "df = pd.read_csv(url)\n",
        "df.head()"
      ],
      "metadata": {
        "id": "-Vrc0ebeM2oh"
      },
      "execution_count": null,
      "outputs": []
    },
    {
      "cell_type": "code",
      "source": [
        "df.shape"
      ],
      "metadata": {
        "id": "OXp5XF5LNLQk"
      },
      "execution_count": null,
      "outputs": []
    },
    {
      "cell_type": "code",
      "source": [
        "df.info()"
      ],
      "metadata": {
        "id": "UBhKkaTJPH8m"
      },
      "execution_count": null,
      "outputs": []
    },
    {
      "cell_type": "code",
      "source": [
        "df.describe()"
      ],
      "metadata": {
        "id": "YIExvDrNVdxI"
      },
      "execution_count": null,
      "outputs": []
    },
    {
      "cell_type": "code",
      "source": [
        "df.isnull().sum()"
      ],
      "metadata": {
        "id": "B7EDscvFNFCf"
      },
      "execution_count": null,
      "outputs": []
    },
    {
      "cell_type": "code",
      "source": [
        "df = df.drop(['time', 'generation biomass', \n",
        "'generation fossil brown coal/lignite', 'generation fossil coal-derived gas', 'generation fossil hard coal','generation fossil oil shale',\n",
        "'generation fossil peat',                            \n",
        "'generation geothermal' ,                            \n",
        "'generation hydro pumped storage aggregated',     \n",
        "'generation hydro pumped storage consumption',       \n",
        "'generation hydro run-of-river and poundage',                         \n",
        "'generation marine',                                 \n",
        "'generation nuclear',                                \n",
        "'generation other',                                  \n",
        "'generation other renewable',                        \n",
        "'generation solar',                                  \n",
        "'generation waste',                                  \n",
        "'generation wind offshore',                         \n",
        "'generation wind onshore',                                                     \n",
        "'forecast wind onshore day ahead', \n",
        "'forecast wind offshore eday ahead',                  \n",
        "'total load forecast',                                                               \n",
        "'price day ahead',                                   \n",
        "                                      ], axis=1)"
      ],
      "metadata": {
        "id": "VIBrAzDtN04o"
      },
      "execution_count": null,
      "outputs": []
    },
    {
      "cell_type": "code",
      "source": [
        "df.info()"
      ],
      "metadata": {
        "id": "54yHs-hkO5eg"
      },
      "execution_count": null,
      "outputs": []
    },
    {
      "cell_type": "code",
      "source": [
        "# for i in df.columns:\n",
        "#   if df[i].isnull().sum() > 0:\n",
        "#     df[i] = df[i].fillna(df[i].mean())"
      ],
      "metadata": {
        "id": "8-qwXsMQQ9hC"
      },
      "execution_count": null,
      "outputs": []
    },
    {
      "cell_type": "code",
      "source": [
        "df.isnull().sum()"
      ],
      "metadata": {
        "id": "Sg2jCXcWRtIB"
      },
      "execution_count": null,
      "outputs": []
    },
    {
      "cell_type": "code",
      "source": [
        "df.corr()['total load actual']"
      ],
      "metadata": {
        "id": "IfVIrx0cUUhd"
      },
      "execution_count": null,
      "outputs": []
    },
    {
      "cell_type": "code",
      "source": [
        "df.columns"
      ],
      "metadata": {
        "id": "3y6QuIcc1914"
      },
      "execution_count": null,
      "outputs": []
    },
    {
      "cell_type": "code",
      "source": [
        "values = df.values"
      ],
      "metadata": {
        "id": "c0psqWJNVRft"
      },
      "execution_count": null,
      "outputs": []
    },
    {
      "cell_type": "code",
      "source": [
        "values.shape"
      ],
      "metadata": {
        "id": "soMaubkmYcyJ"
      },
      "execution_count": null,
      "outputs": []
    },
    {
      "cell_type": "code",
      "source": [
        "scaler = MinMaxScaler(feature_range=(0, 1))\n",
        "# scaledMin = scaler.fit_transform(valuesMin)\n",
        "scaled = scaler.fit_transform(values)"
      ],
      "metadata": {
        "id": "9cElSeg2Yevn"
      },
      "execution_count": null,
      "outputs": []
    },
    {
      "cell_type": "code",
      "source": [
        "#covert to time-series\n",
        "def series_to_supervised(data, n_in=1, n_out=1, dropnan=True):\n",
        "\tn_vars = 1 if type(data) is list else data.shape[1]\n",
        "\tdf = DataFrame(data)\n",
        "\tcols, names = list(), list()\n",
        "\t# input sequence (t-n, ... t-1)\n",
        "\tfor i in range(n_in, 0, -1):\n",
        "\t\tcols.append(df.shift(i))\n",
        "\t\tnames += [('var%d(t-%d)' % (j+1, i)) for j in range(n_vars)]\n",
        "\t# forecast sequence (t, t+1, ... t+n)\n",
        "\tfor i in range(0, n_out):\n",
        "\t\tcols.append(df.shift(-i))\n",
        "\t\tif i == 0:\n",
        "\t\t\tnames += [('var%d(t)' % (j+1)) for j in range(n_vars)]\n",
        "\t\telse:\n",
        "\t\t\tnames += [('var%d(t+%d)' % (j+1, i)) for j in range(n_vars)]\n",
        "\t# put it all together\n",
        "\tagg = concat(cols, axis=1)\n",
        "\tagg.columns = names\n",
        "\t# drop rows with NaN values\n",
        "\tif dropnan:\n",
        "\t\tagg.dropna(inplace=True)\n",
        "\treturn agg"
      ],
      "metadata": {
        "id": "iXtwJO2wYsPv"
      },
      "execution_count": null,
      "outputs": []
    },
    {
      "cell_type": "code",
      "source": [
        "reframed = series_to_supervised(scaled, 1, 1)\n",
        "reframed.head()"
      ],
      "metadata": {
        "id": "dvpYZCocYwu6"
      },
      "execution_count": null,
      "outputs": []
    },
    {
      "cell_type": "code",
      "source": [
        "reframed.shape"
      ],
      "metadata": {
        "id": "dGjrwUYIZOfn"
      },
      "execution_count": null,
      "outputs": []
    },
    {
      "cell_type": "code",
      "source": [
        "reframed.drop(reframed.columns[[-1]], axis=1, inplace=True)"
      ],
      "metadata": {
        "id": "5rEvPOCeZTYV"
      },
      "execution_count": null,
      "outputs": []
    },
    {
      "cell_type": "code",
      "source": [
        "reframed.shape"
      ],
      "metadata": {
        "id": "bLWu1yu7bFVX"
      },
      "execution_count": null,
      "outputs": []
    },
    {
      "cell_type": "code",
      "source": [
        "reframed.drop(reframed.columns[[x for x in range(7, 10)]], axis=1, inplace=True)"
      ],
      "metadata": {
        "id": "iZETstzDZwuC"
      },
      "execution_count": null,
      "outputs": []
    },
    {
      "cell_type": "code",
      "source": [
        "reframed.head()"
      ],
      "metadata": {
        "id": "LJa2eCR30n9U"
      },
      "execution_count": null,
      "outputs": []
    },
    {
      "cell_type": "code",
      "source": [
        "reframed.drop(reframed.columns[[-2]], axis=1, inplace=True)"
      ],
      "metadata": {
        "id": "IRy_pty_0rm6"
      },
      "execution_count": null,
      "outputs": []
    },
    {
      "cell_type": "code",
      "source": [
        "reframed.head()"
      ],
      "metadata": {
        "id": "QGKT9s6_0zcO"
      },
      "execution_count": null,
      "outputs": []
    },
    {
      "cell_type": "code",
      "source": [
        "reframed.columns"
      ],
      "metadata": {
        "id": "m9bt9cxiatt8"
      },
      "execution_count": null,
      "outputs": []
    },
    {
      "cell_type": "code",
      "source": [
        "#split into train and test sets\n",
        "values = reframed.values\n",
        "# values5 = reframed5.values\n",
        "n_train = round(values.shape[0])\n",
        "\n",
        "train = values[:, :]\n",
        "test = values[:, :]"
      ],
      "metadata": {
        "id": "PPGNHjAPcCI-"
      },
      "execution_count": null,
      "outputs": []
    },
    {
      "cell_type": "code",
      "source": [
        "train_X, train_y = train[:, :-1], train[:, -1]\n",
        "test_X, test_y = test[:, :-1], test[:, -1]"
      ],
      "metadata": {
        "id": "oBdzzL4VcLuS"
      },
      "execution_count": null,
      "outputs": []
    },
    {
      "cell_type": "code",
      "source": [
        "#reshap input menjadi 3D ([)samples, timesteps, features)\n",
        "train_X = train_X.reshape((train_X.shape[0], 1, train_X.shape[1]))\n",
        "test_X = test_X.reshape((test_X.shape[0], 1, test_X.shape[1]))"
      ],
      "metadata": {
        "id": "YPqDD7k0cPQ2"
      },
      "execution_count": null,
      "outputs": []
    },
    {
      "cell_type": "code",
      "source": [
        "#design network LSTM\n",
        "model = Sequential()\n",
        "model.add(Bidirectional(LSTM(32, return_sequences = True, input_shape=(train_X.shape[1], train_X.shape[2]))))\n",
        "model.add(Dropout(0.2))\n",
        "\n",
        "model.add(Bidirectional(LSTM(units = 64, return_sequences = True)))\n",
        "model.add(Dropout(0.2))\n",
        "\n",
        "model.add(Bidirectional(LSTM(units = 64, return_sequences = True)))\n",
        "model.add(Dropout(0.2))\n",
        "\n",
        "model.add(Bidirectional(LSTM(units = 64)))\n",
        "model.add(Dropout(0.2))\n",
        "\n",
        "model.add(Dense(1, activation='tanh'))\n",
        "\n",
        "model.compile(loss='mse', optimizer='adam')"
      ],
      "metadata": {
        "id": "TOs3JDQNcSWD"
      },
      "execution_count": null,
      "outputs": []
    },
    {
      "cell_type": "code",
      "source": [
        "#fit network\n",
        "start = time.time()\n",
        "history = model.fit(train_X, train_y, epochs=500, batch_size=128, validation_data=(test_X, test_y), verbose=1, shuffle=False)\n",
        "end = time.time()\n",
        "print('Processing Time {} seconds.'.format(end-start))"
      ],
      "metadata": {
        "id": "AmuCiPs9cVnW"
      },
      "execution_count": null,
      "outputs": []
    },
    {
      "cell_type": "code",
      "source": [
        "#plot history\n",
        "pyplot.plot(history.history['loss'], label='train')\n",
        "pyplot.plot(history.history['val_loss'], label='test')\n",
        "pyplot.xlabel('Epoch')\n",
        "pyplot.ylabel('Loss')\n",
        "pyplot.legend()\n",
        "pyplot.show()"
      ],
      "metadata": {
        "id": "zp6-kLUhcZ1M"
      },
      "execution_count": null,
      "outputs": []
    },
    {
      "cell_type": "code",
      "source": [
        "#membuat prediksi training\n",
        "xhat = model.predict(train_X)\n",
        "train_X = train_X.reshape((train_X.shape[0], train_X.shape[2]))\n",
        "\n",
        "#invert scaling untuk peramalan\n",
        "inv_xhat = concatenate((xhat, train_X[:, 1:]), axis=1)\n",
        "inv_xhat = scaler.inverse_transform(inv_xhat)\n",
        "inv_xhat = inv_xhat[:,0]\n",
        "\n",
        "#invert scaling untuk aktual\n",
        "train_y = train_y.reshape((len(train_y), 1))\n",
        "inv_x = concatenate((train_y, train_X[:, 1:]), axis=1)\n",
        "inv_x = scaler.inverse_transform(inv_x)\n",
        "inv_x = inv_x[:,0]\n",
        "\n",
        "#================================================================#\n",
        "\n",
        "#membuat prediksi testing\n",
        "yhat = model.predict(test_X)\n",
        "test_X = test_X.reshape((test_X.shape[0], test_X.shape[2]))\n",
        "\n",
        "#invert scaling untuk peramalan\n",
        "inv_yhat = concatenate((yhat, test_X[:, 1:]), axis=1)\n",
        "inv_yhat = scaler.inverse_transform(inv_yhat)\n",
        "inv_yhat = inv_yhat[:,0]\n",
        "\n",
        "#invert scaling untuk aktual\n",
        "test_y = test_y.reshape((len(test_y), 1))\n",
        "inv_y = concatenate((test_y, test_X[:, 1:]), axis=1)\n",
        "inv_y = scaler.inverse_transform(inv_y)\n",
        "inv_y = inv_y[:,0]"
      ],
      "metadata": {
        "id": "oTWJfvPbciM3"
      },
      "execution_count": null,
      "outputs": []
    },
    {
      "cell_type": "code",
      "source": [
        "# calculate RMSE\n",
        "#rmsetrain = np.sqrt(mean_squared_error(xhat, train_y))\n",
        "#print(f'RMSE Training is : %.3f' % rmsetrain)\n",
        "#rmsetrain = np.sqrt(mean_squared_error(inv_x, inv_xhat))\n",
        "#print(f'RMSE Training is : %.3f' % rmsetrain)\n",
        "\n",
        "rmsetest = np.sqrt(mean_squared_error(test_y, yhat))\n",
        "print(f'RMSE Testing is : %.3f' % rmsetest)\n",
        "#rmsetest = np.sqrt(mean_squared_error(inv_y, inv_yhat))\n",
        "#print(f'RMSE Testing is : %.3f' % rmsetest)\n",
        "\n",
        "\n",
        "def mean_absolute_percentage_error(yhat, test_y):\n",
        "    yhat, test_y = np.array(yhat), np.array(test_y)\n",
        "    return np.mean(np.abs((yhat, test_y) / test_y)) \n",
        "\n",
        "#print(f'MAPE train is : {(mean_absolute_percentage_error(train_y, xhat))}')\n",
        "#print(f'MAPE train is : {(mean_absolute_percentage_error(inv_x, inv_xhat))}')\n",
        "\n",
        "print(f'MAPE test is : {(mean_absolute_percentage_error(test_y, yhat))}')\n",
        "#print(f'MAPE test is : {(mean_absolute_percentage_error(inv_y, inv_yhat))}')\n",
        "\n",
        "#print(f'R2 train is : {r2_score(train_y, xhat)}')\n",
        "#print(f'R2 train is : {r2_score(inv_x, inv_xhat)}')\n",
        "\n",
        "print(f'R2 test is : {r2_score(test_y, yhat)}')\n",
        "#print(f'R2 test is : {r2_score(inv_y, inv_yhat)}')\n"
      ],
      "metadata": {
        "id": "48OIGctOcqwA"
      },
      "execution_count": null,
      "outputs": []
    },
    {
      "cell_type": "code",
      "source": [
        "print('Actual :', test_y)\n",
        "print('Predicted:', yhat)\n",
        "# plot history\n",
        "pyplot.plot(test_y, label='Actual')\n",
        "pyplot.plot(yhat, label='Forecasting')\n",
        "pyplot.xlabel('Timestep')\n",
        "pyplot.ylabel('Value')\n",
        "pyplot.legend()\n",
        "pyplot.show()"
      ],
      "metadata": {
        "id": "_mwUglUyctP_"
      },
      "execution_count": null,
      "outputs": []
    },
    {
      "cell_type": "code",
      "source": [
        "idx = 200#int(len(yhat)*0.25)\n",
        "aa=[x for x in range(idx)]\n",
        "pyplot.figure(figsize=(20,4))\n",
        "pyplot.plot(aa, test_y[:idx], marker='.', label=\"actual\")\n",
        "pyplot.plot(aa, yhat[:idx], 'r', label=\"prediction\")\n",
        "# plt.tick_params(left=False, labelleft=True) #remove ticks\n",
        "pyplot.tight_layout()\n",
        "sns.despine(top=True)\n",
        "pyplot.subplots_adjust(left=0.07)\n",
        "pyplot.ylabel('TOTAL Load', size=15)\n",
        "pyplot.xlabel('Time step', size=15)\n",
        "pyplot.legend(fontsize=15)\n",
        "pyplot.show()"
      ],
      "metadata": {
        "id": "UatQvhZ5cwT3"
      },
      "execution_count": null,
      "outputs": []
    }
  ]
}