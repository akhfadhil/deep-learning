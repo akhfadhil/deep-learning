{
  "nbformat": 4,
  "nbformat_minor": 0,
  "metadata": {
    "colab": {
      "provenance": []
    },
    "kernelspec": {
      "display_name": "Python 3",
      "name": "python3"
    },
    "language_info": {
      "name": "python"
    }
  },
  "cells": [
    {
      "cell_type": "code",
      "metadata": {
        "id": "UEiy77IR_10i"
      },
      "source": [
        "#load library yang digunakan\n",
        "import pandas as pd\n",
        "import numpy as np\n",
        "import time\n",
        "from matplotlib import pyplot\n",
        "from numpy import concatenate\n",
        "from pandas import DataFrame\n",
        "from pandas import concat\n",
        "from sklearn.preprocessing import MinMaxScaler\n",
        "from sklearn.preprocessing import LabelEncoder\n",
        "from sklearn.metrics import mean_squared_error\n",
        "from sklearn.metrics import mean_absolute_error\n",
        "from sklearn.metrics import mean_absolute_percentage_error\n",
        "from math import sqrt;\n",
        "\n",
        "import tensorflow as tf\n",
        "from sklearn import preprocessing\n",
        "from tensorflow.keras.models import Sequential\n",
        "from tensorflow.keras.layers import Dense\n",
        "from tensorflow.keras.layers import Flatten,TimeDistributed,RepeatVector\n",
        "from tensorflow.keras.layers import Conv1D\n",
        "from tensorflow.keras.layers import MaxPool1D\n",
        "from tensorflow.keras.layers import Dropout"
      ],
      "execution_count": null,
      "outputs": []
    },
    {
      "cell_type": "code",
      "metadata": {
        "id": "FFT2wZ1sS1iJ"
      },
      "source": [
        "#load dataset\n",
        "dataset= pd.read_csv('/content/sample_data/Asli 1 bulan.csv')"
      ],
      "execution_count": null,
      "outputs": []
    },
    {
      "cell_type": "code",
      "metadata": {
        "colab": {
          "base_uri": "https://localhost:8080/",
          "height": 206
        },
        "id": "sgN99T22SHY9",
        "outputId": "dc344d70-77b5-44d3-a3f0-fa86dabb4542"
      },
      "source": [
        "dataset.head()"
      ],
      "execution_count": null,
      "outputs": [
        {
          "output_type": "execute_result",
          "data": {
            "text/plain": [
              "         Day      Date  Sessions  PageViews  Visitors  NewVisitors  Target\n",
              "0     Monday  1/1/2018         3          3         3            3       2\n",
              "1    Tuesday  1/2/2018         2          2         1            1       1\n",
              "2  Wednesday  1/3/2018         1          1         1            1       1\n",
              "3   Thursday  1/4/2018         1          1         1            1       2\n",
              "4     Friday  1/5/2018         2          2         2            2       0"
            ],
            "text/html": [
              "\n",
              "  <div id=\"df-41f0377f-69e3-4198-b25a-7171ecdff8a4\">\n",
              "    <div class=\"colab-df-container\">\n",
              "      <div>\n",
              "<style scoped>\n",
              "    .dataframe tbody tr th:only-of-type {\n",
              "        vertical-align: middle;\n",
              "    }\n",
              "\n",
              "    .dataframe tbody tr th {\n",
              "        vertical-align: top;\n",
              "    }\n",
              "\n",
              "    .dataframe thead th {\n",
              "        text-align: right;\n",
              "    }\n",
              "</style>\n",
              "<table border=\"1\" class=\"dataframe\">\n",
              "  <thead>\n",
              "    <tr style=\"text-align: right;\">\n",
              "      <th></th>\n",
              "      <th>Day</th>\n",
              "      <th>Date</th>\n",
              "      <th>Sessions</th>\n",
              "      <th>PageViews</th>\n",
              "      <th>Visitors</th>\n",
              "      <th>NewVisitors</th>\n",
              "      <th>Target</th>\n",
              "    </tr>\n",
              "  </thead>\n",
              "  <tbody>\n",
              "    <tr>\n",
              "      <th>0</th>\n",
              "      <td>Monday</td>\n",
              "      <td>1/1/2018</td>\n",
              "      <td>3</td>\n",
              "      <td>3</td>\n",
              "      <td>3</td>\n",
              "      <td>3</td>\n",
              "      <td>2</td>\n",
              "    </tr>\n",
              "    <tr>\n",
              "      <th>1</th>\n",
              "      <td>Tuesday</td>\n",
              "      <td>1/2/2018</td>\n",
              "      <td>2</td>\n",
              "      <td>2</td>\n",
              "      <td>1</td>\n",
              "      <td>1</td>\n",
              "      <td>1</td>\n",
              "    </tr>\n",
              "    <tr>\n",
              "      <th>2</th>\n",
              "      <td>Wednesday</td>\n",
              "      <td>1/3/2018</td>\n",
              "      <td>1</td>\n",
              "      <td>1</td>\n",
              "      <td>1</td>\n",
              "      <td>1</td>\n",
              "      <td>1</td>\n",
              "    </tr>\n",
              "    <tr>\n",
              "      <th>3</th>\n",
              "      <td>Thursday</td>\n",
              "      <td>1/4/2018</td>\n",
              "      <td>1</td>\n",
              "      <td>1</td>\n",
              "      <td>1</td>\n",
              "      <td>1</td>\n",
              "      <td>2</td>\n",
              "    </tr>\n",
              "    <tr>\n",
              "      <th>4</th>\n",
              "      <td>Friday</td>\n",
              "      <td>1/5/2018</td>\n",
              "      <td>2</td>\n",
              "      <td>2</td>\n",
              "      <td>2</td>\n",
              "      <td>2</td>\n",
              "      <td>0</td>\n",
              "    </tr>\n",
              "  </tbody>\n",
              "</table>\n",
              "</div>\n",
              "      <button class=\"colab-df-convert\" onclick=\"convertToInteractive('df-41f0377f-69e3-4198-b25a-7171ecdff8a4')\"\n",
              "              title=\"Convert this dataframe to an interactive table.\"\n",
              "              style=\"display:none;\">\n",
              "        \n",
              "  <svg xmlns=\"http://www.w3.org/2000/svg\" height=\"24px\"viewBox=\"0 0 24 24\"\n",
              "       width=\"24px\">\n",
              "    <path d=\"M0 0h24v24H0V0z\" fill=\"none\"/>\n",
              "    <path d=\"M18.56 5.44l.94 2.06.94-2.06 2.06-.94-2.06-.94-.94-2.06-.94 2.06-2.06.94zm-11 1L8.5 8.5l.94-2.06 2.06-.94-2.06-.94L8.5 2.5l-.94 2.06-2.06.94zm10 10l.94 2.06.94-2.06 2.06-.94-2.06-.94-.94-2.06-.94 2.06-2.06.94z\"/><path d=\"M17.41 7.96l-1.37-1.37c-.4-.4-.92-.59-1.43-.59-.52 0-1.04.2-1.43.59L10.3 9.45l-7.72 7.72c-.78.78-.78 2.05 0 2.83L4 21.41c.39.39.9.59 1.41.59.51 0 1.02-.2 1.41-.59l7.78-7.78 2.81-2.81c.8-.78.8-2.07 0-2.86zM5.41 20L4 18.59l7.72-7.72 1.47 1.35L5.41 20z\"/>\n",
              "  </svg>\n",
              "      </button>\n",
              "      \n",
              "  <style>\n",
              "    .colab-df-container {\n",
              "      display:flex;\n",
              "      flex-wrap:wrap;\n",
              "      gap: 12px;\n",
              "    }\n",
              "\n",
              "    .colab-df-convert {\n",
              "      background-color: #E8F0FE;\n",
              "      border: none;\n",
              "      border-radius: 50%;\n",
              "      cursor: pointer;\n",
              "      display: none;\n",
              "      fill: #1967D2;\n",
              "      height: 32px;\n",
              "      padding: 0 0 0 0;\n",
              "      width: 32px;\n",
              "    }\n",
              "\n",
              "    .colab-df-convert:hover {\n",
              "      background-color: #E2EBFA;\n",
              "      box-shadow: 0px 1px 2px rgba(60, 64, 67, 0.3), 0px 1px 3px 1px rgba(60, 64, 67, 0.15);\n",
              "      fill: #174EA6;\n",
              "    }\n",
              "\n",
              "    [theme=dark] .colab-df-convert {\n",
              "      background-color: #3B4455;\n",
              "      fill: #D2E3FC;\n",
              "    }\n",
              "\n",
              "    [theme=dark] .colab-df-convert:hover {\n",
              "      background-color: #434B5C;\n",
              "      box-shadow: 0px 1px 3px 1px rgba(0, 0, 0, 0.15);\n",
              "      filter: drop-shadow(0px 1px 2px rgba(0, 0, 0, 0.3));\n",
              "      fill: #FFFFFF;\n",
              "    }\n",
              "  </style>\n",
              "\n",
              "      <script>\n",
              "        const buttonEl =\n",
              "          document.querySelector('#df-41f0377f-69e3-4198-b25a-7171ecdff8a4 button.colab-df-convert');\n",
              "        buttonEl.style.display =\n",
              "          google.colab.kernel.accessAllowed ? 'block' : 'none';\n",
              "\n",
              "        async function convertToInteractive(key) {\n",
              "          const element = document.querySelector('#df-41f0377f-69e3-4198-b25a-7171ecdff8a4');\n",
              "          const dataTable =\n",
              "            await google.colab.kernel.invokeFunction('convertToInteractive',\n",
              "                                                     [key], {});\n",
              "          if (!dataTable) return;\n",
              "\n",
              "          const docLinkHtml = 'Like what you see? Visit the ' +\n",
              "            '<a target=\"_blank\" href=https://colab.research.google.com/notebooks/data_table.ipynb>data table notebook</a>'\n",
              "            + ' to learn more about interactive tables.';\n",
              "          element.innerHTML = '';\n",
              "          dataTable['output_type'] = 'display_data';\n",
              "          await google.colab.output.renderOutput(dataTable, element);\n",
              "          const docLink = document.createElement('div');\n",
              "          docLink.innerHTML = docLinkHtml;\n",
              "          element.appendChild(docLink);\n",
              "        }\n",
              "      </script>\n",
              "    </div>\n",
              "  </div>\n",
              "  "
            ]
          },
          "metadata": {},
          "execution_count": 13
        }
      ]
    },
    {
      "cell_type": "code",
      "metadata": {
        "colab": {
          "base_uri": "https://localhost:8080/",
          "height": 206
        },
        "id": "tn2w4d8cTOgd",
        "outputId": "5b34596c-de69-4de5-abed-fb210607d5be"
      },
      "source": [
        "dataset=dataset.drop('Day',axis=1);\n",
        "dataset=dataset.drop('Date',axis=1);\n",
        "dataset.head()"
      ],
      "execution_count": null,
      "outputs": [
        {
          "output_type": "execute_result",
          "data": {
            "text/plain": [
              "   Sessions  PageViews  Visitors  NewVisitors  Target\n",
              "0         3          3         3            3       2\n",
              "1         2          2         1            1       1\n",
              "2         1          1         1            1       1\n",
              "3         1          1         1            1       2\n",
              "4         2          2         2            2       0"
            ],
            "text/html": [
              "\n",
              "  <div id=\"df-e982d2a8-b651-4665-9931-10f8a4af1209\">\n",
              "    <div class=\"colab-df-container\">\n",
              "      <div>\n",
              "<style scoped>\n",
              "    .dataframe tbody tr th:only-of-type {\n",
              "        vertical-align: middle;\n",
              "    }\n",
              "\n",
              "    .dataframe tbody tr th {\n",
              "        vertical-align: top;\n",
              "    }\n",
              "\n",
              "    .dataframe thead th {\n",
              "        text-align: right;\n",
              "    }\n",
              "</style>\n",
              "<table border=\"1\" class=\"dataframe\">\n",
              "  <thead>\n",
              "    <tr style=\"text-align: right;\">\n",
              "      <th></th>\n",
              "      <th>Sessions</th>\n",
              "      <th>PageViews</th>\n",
              "      <th>Visitors</th>\n",
              "      <th>NewVisitors</th>\n",
              "      <th>Target</th>\n",
              "    </tr>\n",
              "  </thead>\n",
              "  <tbody>\n",
              "    <tr>\n",
              "      <th>0</th>\n",
              "      <td>3</td>\n",
              "      <td>3</td>\n",
              "      <td>3</td>\n",
              "      <td>3</td>\n",
              "      <td>2</td>\n",
              "    </tr>\n",
              "    <tr>\n",
              "      <th>1</th>\n",
              "      <td>2</td>\n",
              "      <td>2</td>\n",
              "      <td>1</td>\n",
              "      <td>1</td>\n",
              "      <td>1</td>\n",
              "    </tr>\n",
              "    <tr>\n",
              "      <th>2</th>\n",
              "      <td>1</td>\n",
              "      <td>1</td>\n",
              "      <td>1</td>\n",
              "      <td>1</td>\n",
              "      <td>1</td>\n",
              "    </tr>\n",
              "    <tr>\n",
              "      <th>3</th>\n",
              "      <td>1</td>\n",
              "      <td>1</td>\n",
              "      <td>1</td>\n",
              "      <td>1</td>\n",
              "      <td>2</td>\n",
              "    </tr>\n",
              "    <tr>\n",
              "      <th>4</th>\n",
              "      <td>2</td>\n",
              "      <td>2</td>\n",
              "      <td>2</td>\n",
              "      <td>2</td>\n",
              "      <td>0</td>\n",
              "    </tr>\n",
              "  </tbody>\n",
              "</table>\n",
              "</div>\n",
              "      <button class=\"colab-df-convert\" onclick=\"convertToInteractive('df-e982d2a8-b651-4665-9931-10f8a4af1209')\"\n",
              "              title=\"Convert this dataframe to an interactive table.\"\n",
              "              style=\"display:none;\">\n",
              "        \n",
              "  <svg xmlns=\"http://www.w3.org/2000/svg\" height=\"24px\"viewBox=\"0 0 24 24\"\n",
              "       width=\"24px\">\n",
              "    <path d=\"M0 0h24v24H0V0z\" fill=\"none\"/>\n",
              "    <path d=\"M18.56 5.44l.94 2.06.94-2.06 2.06-.94-2.06-.94-.94-2.06-.94 2.06-2.06.94zm-11 1L8.5 8.5l.94-2.06 2.06-.94-2.06-.94L8.5 2.5l-.94 2.06-2.06.94zm10 10l.94 2.06.94-2.06 2.06-.94-2.06-.94-.94-2.06-.94 2.06-2.06.94z\"/><path d=\"M17.41 7.96l-1.37-1.37c-.4-.4-.92-.59-1.43-.59-.52 0-1.04.2-1.43.59L10.3 9.45l-7.72 7.72c-.78.78-.78 2.05 0 2.83L4 21.41c.39.39.9.59 1.41.59.51 0 1.02-.2 1.41-.59l7.78-7.78 2.81-2.81c.8-.78.8-2.07 0-2.86zM5.41 20L4 18.59l7.72-7.72 1.47 1.35L5.41 20z\"/>\n",
              "  </svg>\n",
              "      </button>\n",
              "      \n",
              "  <style>\n",
              "    .colab-df-container {\n",
              "      display:flex;\n",
              "      flex-wrap:wrap;\n",
              "      gap: 12px;\n",
              "    }\n",
              "\n",
              "    .colab-df-convert {\n",
              "      background-color: #E8F0FE;\n",
              "      border: none;\n",
              "      border-radius: 50%;\n",
              "      cursor: pointer;\n",
              "      display: none;\n",
              "      fill: #1967D2;\n",
              "      height: 32px;\n",
              "      padding: 0 0 0 0;\n",
              "      width: 32px;\n",
              "    }\n",
              "\n",
              "    .colab-df-convert:hover {\n",
              "      background-color: #E2EBFA;\n",
              "      box-shadow: 0px 1px 2px rgba(60, 64, 67, 0.3), 0px 1px 3px 1px rgba(60, 64, 67, 0.15);\n",
              "      fill: #174EA6;\n",
              "    }\n",
              "\n",
              "    [theme=dark] .colab-df-convert {\n",
              "      background-color: #3B4455;\n",
              "      fill: #D2E3FC;\n",
              "    }\n",
              "\n",
              "    [theme=dark] .colab-df-convert:hover {\n",
              "      background-color: #434B5C;\n",
              "      box-shadow: 0px 1px 3px 1px rgba(0, 0, 0, 0.15);\n",
              "      filter: drop-shadow(0px 1px 2px rgba(0, 0, 0, 0.3));\n",
              "      fill: #FFFFFF;\n",
              "    }\n",
              "  </style>\n",
              "\n",
              "      <script>\n",
              "        const buttonEl =\n",
              "          document.querySelector('#df-e982d2a8-b651-4665-9931-10f8a4af1209 button.colab-df-convert');\n",
              "        buttonEl.style.display =\n",
              "          google.colab.kernel.accessAllowed ? 'block' : 'none';\n",
              "\n",
              "        async function convertToInteractive(key) {\n",
              "          const element = document.querySelector('#df-e982d2a8-b651-4665-9931-10f8a4af1209');\n",
              "          const dataTable =\n",
              "            await google.colab.kernel.invokeFunction('convertToInteractive',\n",
              "                                                     [key], {});\n",
              "          if (!dataTable) return;\n",
              "\n",
              "          const docLinkHtml = 'Like what you see? Visit the ' +\n",
              "            '<a target=\"_blank\" href=https://colab.research.google.com/notebooks/data_table.ipynb>data table notebook</a>'\n",
              "            + ' to learn more about interactive tables.';\n",
              "          element.innerHTML = '';\n",
              "          dataTable['output_type'] = 'display_data';\n",
              "          await google.colab.output.renderOutput(dataTable, element);\n",
              "          const docLink = document.createElement('div');\n",
              "          docLink.innerHTML = docLinkHtml;\n",
              "          element.appendChild(docLink);\n",
              "        }\n",
              "      </script>\n",
              "    </div>\n",
              "  </div>\n",
              "  "
            ]
          },
          "metadata": {},
          "execution_count": 14
        }
      ]
    },
    {
      "cell_type": "code",
      "metadata": {
        "id": "vuwOsPdrTRBX"
      },
      "source": [
        "values=dataset.values;"
      ],
      "execution_count": null,
      "outputs": []
    },
    {
      "cell_type": "code",
      "metadata": {
        "colab": {
          "base_uri": "https://localhost:8080/",
          "height": 265
        },
        "id": "bpXEUXdgAhDG",
        "outputId": "74bac5a0-5531-42cb-ab74-2b7a0729d3df"
      },
      "source": [
        "# specify columns to plot\n",
        "groups = [ 0, 1, 2, 3]\n",
        "i = 1\n",
        "# plot each column\n",
        "pyplot.figure()\n",
        "for group in groups:\n",
        "\tpyplot.subplot(len(groups), 1, i)\n",
        "\tpyplot.plot(values[:, group])\n",
        "\tpyplot.title(dataset.columns[group], y=0.5, loc='right')\n",
        "\ti += 1\n",
        "pyplot.show()"
      ],
      "execution_count": null,
      "outputs": [
        {
          "output_type": "display_data",
          "data": {
            "text/plain": [
              "<Figure size 432x288 with 4 Axes>"
            ],
            "image/png": "[encoded data removed]"
          },
          "metadata": {
            "needs_background": "light"
          }
        }
      ]
    },
    {
      "cell_type": "code",
      "metadata": {
        "colab": {
          "base_uri": "https://localhost:8080/"
        },
        "id": "yXk64yLdVcQm",
        "outputId": "fabc0e78-fbf7-4d93-e65e-1741b87f4e44"
      },
      "source": [
        "values.shape"
      ],
      "execution_count": null,
      "outputs": [
        {
          "output_type": "execute_result",
          "data": {
            "text/plain": [
              "(730, 5)"
            ]
          },
          "metadata": {},
          "execution_count": 119
        }
      ]
    },
    {
      "cell_type": "code",
      "metadata": {
        "colab": {
          "base_uri": "https://localhost:8080/"
        },
        "id": "Q6KX25dUVgit",
        "outputId": "0b2b8fd4-def4-4017-b9e3-100096074493"
      },
      "source": [
        "values.dtype"
      ],
      "execution_count": null,
      "outputs": [
        {
          "output_type": "execute_result",
          "data": {
            "text/plain": [
              "dtype('int64')"
            ]
          },
          "metadata": {},
          "execution_count": 120
        }
      ]
    },
    {
      "cell_type": "code",
      "metadata": {
        "id": "6Cpv67QkVjEd"
      },
      "source": [
        "#normalisasi\n",
        "scaler = MinMaxScaler(feature_range=(0, 1))\n",
        "scaled = scaler.fit_transform(values)"
      ],
      "execution_count": null,
      "outputs": []
    },
    {
      "cell_type": "code",
      "metadata": {
        "id": "VL8wu6NgA7Zs"
      },
      "source": [
        "#covert to time-series\n",
        "def series_to_supervised(data, n_in=1, n_out=1, dropnan=True):\n",
        "\tn_vars = 1 if type(data) is list else data.shape[1]\n",
        "\tdf = DataFrame(data)\n",
        "\tcols, names = list(), list()\n",
        "\t# input sequence (t-n, ... t-1)\n",
        "\tfor i in range(n_in, 0, -1):\n",
        "\t\tcols.append(df.shift(i))\n",
        "\t\tnames += [('var%d(t-%d)' % (j+1, i)) for j in range(n_vars)]\n",
        "\t# forecast sequence (t, t+1, ... t+n)\n",
        "\tfor i in range(0, n_out):\n",
        "\t\tcols.append(df.shift(-i))\n",
        "\t\tif i == 0:\n",
        "\t\t\tnames += [('var%d(t)' % (j+1)) for j in range(n_vars)]\n",
        "\t\telse:\n",
        "\t\t\tnames += [('var%d(t+%d)' % (j+1, i)) for j in range(n_vars)]\n",
        "\t# put it all together\n",
        "\tagg = concat(cols, axis=1)\n",
        "\tagg.columns = names\n",
        "\t# drop rows with NaN values\n",
        "\tif dropnan:\n",
        "\t\tagg.dropna(inplace=True)\n",
        "\treturn agg"
      ],
      "execution_count": null,
      "outputs": []
    },
    {
      "cell_type": "code",
      "metadata": {
        "colab": {
          "base_uri": "https://localhost:8080/"
        },
        "id": "CZ0f5E1NVpGR",
        "outputId": "68d785c1-47a4-4477-f207-5c9d86912b92"
      },
      "source": [
        "#frame sebagai supervised learning\n",
        "reframed = series_to_supervised(scaled, 1, 1)\n",
        "print(reframed.head())"
      ],
      "execution_count": null,
      "outputs": [
        {
          "output_type": "stream",
          "name": "stdout",
          "text": [
            "   var1(t-1)  var2(t-1)  var3(t-1)  var4(t-1)  var5(t-1)   var1(t)   var2(t)  \\\n",
            "1   0.020134   0.006237      0.024   0.032258   0.013423  0.013423  0.004158   \n",
            "2   0.013423   0.004158      0.008   0.010753   0.006711  0.006711  0.002079   \n",
            "3   0.006711   0.002079      0.008   0.010753   0.006711  0.006711  0.002079   \n",
            "4   0.006711   0.002079      0.008   0.010753   0.013423  0.013423  0.004158   \n",
            "5   0.013423   0.004158      0.016   0.021505   0.000000  0.000000  0.000000   \n",
            "\n",
            "   var3(t)   var4(t)   var5(t)  \n",
            "1    0.008  0.010753  0.006711  \n",
            "2    0.008  0.010753  0.006711  \n",
            "3    0.008  0.010753  0.013423  \n",
            "4    0.016  0.021505  0.000000  \n",
            "5    0.000  0.000000  0.000000  \n"
          ]
        }
      ]
    },
    {
      "cell_type": "code",
      "metadata": {
        "id": "kwyM8HFoWQmp"
      },
      "source": [
        "#split into train and test sets\n",
        "values = reframed.values\n",
        "n_train = 365\n",
        "train = values[:n_train, :]\n",
        "test = values[n_train:, :]\n",
        "#split into input and outputs\n",
        "train_X, train_y = train[:, :5], train[:, 5]\n",
        "test_X, test_y = test[:, :5], test[:, 5]"
      ],
      "execution_count": null,
      "outputs": []
    },
    {
      "cell_type": "code",
      "metadata": {
        "colab": {
          "base_uri": "https://localhost:8080/"
        },
        "id": "4kHIkT1cW9r7",
        "outputId": "314738cb-8c04-49b8-a6bb-dcd13e979cc0"
      },
      "source": [
        "#reshap input menjadi 3D ([)samples, timesteps, features)\n",
        "train_X = train_X.reshape((train_X.shape[0], 1, train_X.shape[1]))\n",
        "test_X = test_X.reshape((test_X.shape[0], 1, test_X.shape[1]))\n",
        "print(train_X.shape, train_y.shape, test_X.shape, test_y.shape)"
      ],
      "execution_count": null,
      "outputs": [
        {
          "output_type": "stream",
          "name": "stdout",
          "text": [
            "(365, 1, 5) (365,) (364, 1, 5) (364,)\n"
          ]
        }
      ]
    },
    {
      "cell_type": "code",
      "metadata": {
        "id": "orE2TLVaXAuc"
      },
      "source": [
        "#design network CNN\n",
        "model = Sequential()\n",
        "model.add(Conv1D(filters=64, kernel_size=1, activation='relu', input_shape=(train_X.shape[1], train_X.shape[2])))\n",
        "\n",
        "model.add(MaxPool1D(pool_size=1))\n",
        "model.add(Dropout(0.2))\n",
        "\n",
        "model.add(Flatten())\n",
        "\n",
        "model.add(Dense(28, activation='relu'))\n",
        "model.add(Dropout(0.2))\n",
        "\n",
        "model.add(Dense(28, activation='relu'))\n",
        "model.add(Dropout(0.2))\n",
        "\n",
        "model.add(Dense(1,activation='relu'))\n",
        "\n",
        "model.compile(loss='mae', optimizer='RMSprop')"
      ],
      "execution_count": null,
      "outputs": []
    },
    {
      "cell_type": "code",
      "source": [
        "model_path = '\\best_model.h5'"
      ],
      "metadata": {
        "id": "as0aiWHUmz1l"
      },
      "execution_count": null,
      "outputs": []
    },
    {
      "cell_type": "code",
      "metadata": {
        "colab": {
          "base_uri": "https://localhost:8080/"
        },
        "id": "F7zabJQOXDzp",
        "outputId": "d3b86086-6cec-45b8-e3a8-90a9c1b29885"
      },
      "source": [
        "model.summary()"
      ],
      "execution_count": null,
      "outputs": [
        {
          "output_type": "stream",
          "name": "stdout",
          "text": [
            "Model: \"sequential_4\"\n",
            "_________________________________________________________________\n",
            " Layer (type)                Output Shape              Param #   \n",
            "=================================================================\n",
            " conv1d_4 (Conv1D)           (None, 1, 64)             384       \n",
            "                                                                 \n",
            " max_pooling1d_4 (MaxPooling  (None, 1, 64)            0         \n",
            " 1D)                                                             \n",
            "                                                                 \n",
            " dropout_38 (Dropout)        (None, 1, 64)             0         \n",
            "                                                                 \n",
            " flatten_4 (Flatten)         (None, 64)                0         \n",
            "                                                                 \n",
            " dense_38 (Dense)            (None, 28)                1820      \n",
            "                                                                 \n",
            " dropout_39 (Dropout)        (None, 28)                0         \n",
            "                                                                 \n",
            " dense_39 (Dense)            (None, 28)                812       \n",
            "                                                                 \n",
            " dropout_40 (Dropout)        (None, 28)                0         \n",
            "                                                                 \n",
            " dense_40 (Dense)            (None, 1)                 29        \n",
            "                                                                 \n",
            "=================================================================\n",
            "Total params: 3,045\n",
            "Trainable params: 3,045\n",
            "Non-trainable params: 0\n",
            "_________________________________________________________________\n"
          ]
        }
      ]
    },
    {
      "cell_type": "code",
      "metadata": {
        "colab": {
          "base_uri": "https://localhost:8080/",
          "height": 278
        },
        "id": "PZ1khwRMXLCD",
        "outputId": "520b5b41-d8b7-45a4-e198-ec48b2a69cfe"
      },
      "source": [
        "#plot history\n",
        "pyplot.plot(history.history['loss'], label='train')\n",
        "pyplot.plot(history.history['val_loss'], label='test')\n",
        "pyplot.xlabel('Epoch')\n",
        "pyplot.ylabel('Loss')\n",
        "pyplot.legend()\n",
        "pyplot.show()"
      ],
      "execution_count": null,
      "outputs": [
        {
          "output_type": "display_data",
          "data": {
            "text/plain": [
              "<Figure size 432x288 with 1 Axes>"
            ],
            "image/png": "[encoded data removed]"
          },
          "metadata": {
            "needs_background": "light"
          }
        }
      ]
    },
    {
      "cell_type": "code",
      "source": [
        "#membuat prediksi training\n",
        "xhat = model.predict(train_X)\n",
        "train_X = train_X.reshape((train_X.shape[0], train_X.shape[2]))\n",
        "\n",
        "#invert scaling untuk peramalan\n",
        "inv_xhat = concatenate((xhat, train_X[:, 1:]), axis=1)\n",
        "inv_xhat = scaler.inverse_transform(inv_xhat)\n",
        "inv_xhat = inv_xhat[:,0]\n",
        "\n",
        "#invert scaling untuk aktual\n",
        "train_y = train_y.reshape((len(train_y), 1))\n",
        "inv_x = concatenate((train_y, train_X[:, 1:]), axis=1)\n",
        "inv_x = scaler.inverse_transform(inv_x)\n",
        "inv_x = inv_x[:,0]"
      ],
      "metadata": {
        "id": "KuCLMVWHQlLq"
      },
      "execution_count": null,
      "outputs": []
    },
    {
      "cell_type": "code",
      "metadata": {
        "id": "u-xJDkthXRaf"
      },
      "source": [
        "#membuat prediksi testing\n",
        "yhat = model.predict(test_X)\n",
        "test_X = test_X.reshape((test_X.shape[0], test_X.shape[2]))\n",
        "\n",
        "#invert scaling untuk peramalan\n",
        "inv_yhat = concatenate((yhat, test_X[:, 1:]), axis=1)\n",
        "inv_yhat = scaler.inverse_transform(inv_yhat)\n",
        "inv_yhat = inv_yhat[:,0]\n",
        "\n",
        "#invert scaling untuk aktual\n",
        "test_y = test_y.reshape((len(test_y), 1))\n",
        "inv_y = concatenate((test_y, test_X[:, 1:]), axis=1)\n",
        "inv_y = scaler.inverse_transform(inv_y)\n",
        "inv_y = inv_y[:,0]"
      ],
      "execution_count": null,
      "outputs": []
    },
    {
      "cell_type": "code",
      "metadata": {
        "colab": {
          "base_uri": "https://localhost:8080/"
        },
        "id": "Hhi5qRWBXae9",
        "outputId": "afa1f570-570a-4380-a802-bc6e830165bc"
      },
      "source": [
        "#Evaluasi\n",
        "rmse1 = sqrt(mean_squared_error(inv_x, inv_xhat))\n",
        "print('Test RMSE Training: %.2f' % rmse1)\n",
        "rmse2 = sqrt(mean_squared_error(inv_y, inv_yhat))\n",
        "print('Test RMSE Testing: %.2f' % rmse2)\n",
        "mse = (mean_squared_error(inv_y, inv_yhat))\n",
        "print('Test MSE: %.2f' % mse)\n",
        "mape = (mean_absolute_percentage_error(yhat, test_y))\n",
        "print('Test MAPE: %.2f' % mape)"
      ],
      "execution_count": null,
      "outputs": [
        {
          "output_type": "stream",
          "name": "stdout",
          "text": [
            "Test RMSE Training: 0.79\n",
            "Test RMSE Testing: 1.26\n",
            "Test MSE: 1.58\n",
            "Test MAPE: 1.16\n"
          ]
        }
      ]
    },
    {
      "cell_type": "code",
      "metadata": {
        "colab": {
          "base_uri": "https://localhost:8080/",
          "height": 1000
        },
        "id": "_7pNgakTXchu",
        "outputId": "3a440e3f-4221-4643-f21f-a5d669d21e88"
      },
      "source": [
        "print('Actual :', inv_y)\n",
        "print('Predicted:', inv_yhat)\n",
        "# plot history\n",
        "pyplot.plot(inv_y, label='Actual')\n",
        "pyplot.plot(inv_yhat, label='Forecasting')\n",
        "pyplot.xlabel('Timestep')\n",
        "pyplot.ylabel('Value')\n",
        "pyplot.legend()\n",
        "pyplot.show()"
      ],
      "execution_count": null,
      "outputs": [
        {
          "output_type": "stream",
          "name": "stdout",
          "text": [
            "Actual : [  1.   0.   2.   1.   1.   3.   4.   4.   7.   6.   0.   1.   3.   3.\n",
            "   4.   4.   5.   1.   0.   4.   5.   0.   5.   4.   0.   1.   3.   4.\n",
            "   2.   6.   8.   5.   5.   1.   2.   6.  12.   3.   4.   1.   3.   6.\n",
            "   3.   3.   8.   3.   2.   4.   3.   5.   3.  11.   1.   0.  12.   2.\n",
            "  10.   9.   2.   4.   1.  20.   5.   5.   4.   2.   2.   0.   4.   5.\n",
            "   1.   5.   5.   6.   4.   5.   2.   4.   3.   0.   2.   2.   7.   3.\n",
            "   2.   3.   2.   2.   2.  11.  15.   7.  10.   7.  11.   5.  29.   8.\n",
            "   5.   9.   7.   2.   4.   8.   4.   3.   2.   3.   2.   2.  11.   7.\n",
            "   2.   7.   4.   3.   3.   3.   2.   3.   3.   1.   3.   4.   2.   8.\n",
            "   6.   6.   4.   5.   5.   5.   9.   2.   4.   4.  10.   8.  29.   2.\n",
            "   3.   4.   3.   5.   4.   4.   7.  17.   2.   3.   1.   9.   5.   2.\n",
            "   1.   2.   1.   2.   1.   3.   2.   4.   7.   6.   7.   4.   6.   5.\n",
            "   9.   6.   7.   2. 149.  44.  21.  16.  16.   4.   5.   4.  20.   9.\n",
            "  13.  11.  10.   6.   6.   4.  10.   6.   7.   2.   2.   5.   4.  11.\n",
            "   4.   7.   3.   5.   2.   9.   8.   3.  14.   1.   1.   4.   4.   6.\n",
            "   9.   5.  11.   2.   1.   1.   8.  12.   6.   8.   0.   2.   2.   7.\n",
            "   4.  10.   3.   2.   4.   6.   6.   3.   9.   7.   1.   1.  10.   5.\n",
            "   4.   1.   6.   3.  12.  12.   3.   7.  10.  11.   6.   2.   2.   1.\n",
            "   0.   7.   0.   3.   5.   4.  41.   8.  13.  11.   6.   9.   8.   7.\n",
            "  11.  11.   5.  12.  20.   8.   7.   8.   8.   5.   4.   6.  10.  10.\n",
            "  15.   9.   7.   2.   3.   8.   2.   7.   6.   6.   5.  42.  14.   5.\n",
            "   8.   6.  11.   7.   7.   6.   7.  10.   8.   3.   1.  10.   9.   6.\n",
            "   5.  10.   5.   6.   2.  17.   7.   3.   5.   5.   1.   4.   4.   6.\n",
            "   8.  19.   4.   6.   2.  15.   7.   5.   5.   7.   3.   7.   9.  14.\n",
            "   8.   8.   9.   8.   2.  18.  14.   8.  12.   6.   8.   3.   8.   6.\n",
            "   9.   2.   7.   3.  10.  45.  35.  15.  19.   8.   2.   8.   8.   2.]\n",
            "Predicted: [1.50264109e+00 0.00000000e+00 2.44335856e+00 1.57137575e+00\n",
            " 1.35950259e+00 3.30016191e+00 4.25721893e+00 4.28704746e+00\n",
            " 6.75992316e+00 6.01720243e+00 1.27267437e-01 1.18519284e+00\n",
            " 3.51413101e+00 3.33109060e+00 4.25721893e+00 4.20825413e+00\n",
            " 5.22491188e+00 1.89994216e+00 0.00000000e+00 4.29372798e+00\n",
            " 5.26434337e+00 1.89059023e-02 5.16742235e+00 4.14644368e+00\n",
            " 2.35512407e-01 1.18519284e+00 3.41812669e+00 4.26042278e+00\n",
            " 2.48297600e+00 5.84602992e+00 7.74573881e+00 5.13709120e+00\n",
            " 5.28131680e+00 1.61720024e+00 2.54278266e+00 5.90526903e+00\n",
            " 1.09924163e+01 3.70779877e+00 4.29806390e+00 1.32669001e+00\n",
            " 3.51413101e+00 5.90408673e+00 3.31653116e+00 3.38105257e+00\n",
            " 7.62435649e+00 3.21933426e+00 2.45809728e+00 4.36012442e+00\n",
            " 3.31654059e+00 5.25909298e+00 3.30084909e+00 1.02600692e+01\n",
            " 1.61091381e+00 0.00000000e+00 1.11078749e+01 2.43056534e+00\n",
            " 9.38738759e+00 8.64914681e+00 2.33854696e+00 4.48950805e+00\n",
            " 1.65829847e+00 1.82175577e+01 6.59761343e+00 5.17937741e+00\n",
            " 4.21761453e+00 2.67389061e+00 2.55127215e+00 0.00000000e+00\n",
            " 4.29372798e+00 5.23676203e+00 1.72529298e+00 5.23333670e+00\n",
            " 5.21632053e+00 5.93790260e+00 4.35770099e+00 5.21192661e+00\n",
            " 2.52991618e+00 4.27911359e+00 3.33183633e+00 6.66498207e-03\n",
            " 2.44335856e+00 2.62111250e+00 6.62357397e+00 4.51256836e+00\n",
            " 2.53237846e+00 3.29645350e+00 2.54600899e+00 2.51817648e+00\n",
            " 2.60133931e+00 1.02953027e+01 1.40769106e+01 6.52942774e+00\n",
            " 9.29978672e+00 6.33603585e+00 1.02980503e+01 5.33882132e+00\n",
            " 2.63196825e+01 7.24388273e+00 5.22443341e+00 8.56894278e+00\n",
            " 6.87004038e+00 2.38219753e+00 4.41295914e+00 7.71895011e+00\n",
            " 4.14712891e+00 3.34730220e+00 2.50288574e+00 3.46260791e+00\n",
            " 2.43520266e+00 2.60133931e+00 1.02534217e+01 8.31969271e+00\n",
            " 2.48026310e+00 6.68083204e+00 4.16363220e+00 3.31594306e+00\n",
            " 3.39059502e+00 3.32775464e+00 2.57687662e+00 3.47144155e+00\n",
            " 3.35037172e+00 1.52388272e+00 3.40966300e+00 4.12500694e+00\n",
            " 2.57203476e+00 7.57407729e+00 5.99408716e+00 6.03591433e+00\n",
            " 4.24997334e+00 5.26112342e+00 5.26809064e+00 4.95044783e+00\n",
            " 8.63248921e+00 2.46195834e+00 4.48785589e+00 4.28881646e+00\n",
            " 9.44692754e+00 7.80115239e+00 2.63162700e+01 3.23724826e+00\n",
            " 3.39033636e+00 4.32522728e+00 3.33173753e+00 5.30858953e+00\n",
            " 4.20987188e+00 4.15559786e+00 6.48622233e+00 1.55920682e+01\n",
            " 3.32901242e+00 3.36546042e+00 1.27920752e+00 8.46226310e+00\n",
            " 5.03612373e+00 2.55477352e+00 1.29081567e+00 2.56853394e+00\n",
            " 1.54687642e+00 2.45407498e+00 1.54687615e+00 3.50943847e+00\n",
            " 2.45807980e+00 4.48950805e+00 6.69621021e+00 5.72510053e+00\n",
            " 6.78846199e+00 4.20363902e+00 5.97823996e+00 5.05643423e+00\n",
            " 8.65306781e+00 6.10613935e+00 6.47490671e+00 2.41059038e+00\n",
            " 1.29374065e+02 4.15929695e+01 2.01572593e+01 1.52648255e+01\n",
            " 1.49257343e+01 4.23564870e+00 5.13400224e+00 4.31990528e+00\n",
            " 1.82653546e+01 8.04569881e+00 1.20700980e+01 1.03238854e+01\n",
            " 9.46873728e+00 6.07900206e+00 5.93044415e+00 4.18942955e+00\n",
            " 9.36157469e+00 5.81663018e+00 6.77187711e+00 2.58181340e+00\n",
            " 2.48453546e+00 5.28811972e+00 4.21642779e+00 1.02963252e+01\n",
            " 4.07507467e+00 6.70409162e+00 3.15013918e+00 5.25797674e+00\n",
            " 2.47345797e+00 8.46434461e+00 7.89697437e+00 3.24075157e+00\n",
            " 1.29469237e+01 1.62332320e+00 1.25101838e+00 4.30486737e+00\n",
            " 4.29335692e+00 5.98939462e+00 8.60792522e+00 5.23247746e+00\n",
            " 1.03084790e+01 2.42924178e+00 1.42419593e+00 1.34678583e+00\n",
            " 7.56166486e+00 1.13064062e+01 6.03169248e+00 7.56659220e+00\n",
            " 1.40528351e+00 2.44335856e+00 2.62111278e+00 6.67438270e+00\n",
            " 4.14588944e+00 9.30678502e+00 3.07407096e+00 2.52277856e+00\n",
            " 4.30312585e+00 5.95559040e+00 5.94763295e+00 3.29986828e+00\n",
            " 8.44575537e+00 6.79915538e+00 2.20184697e+00 1.38149980e+00\n",
            " 9.35804335e+00 5.25063263e+00 4.25318219e+00 1.84938057e+00\n",
            " 5.88596153e+00 3.11382217e+00 1.11549314e+01 1.07249855e+01\n",
            " 3.18779945e+00 6.63569611e+00 9.34384581e+00 1.03132337e+01\n",
            " 5.61678174e+00 2.42054248e+00 2.51817648e+00 1.54687642e+00\n",
            " 0.00000000e+00 6.60316189e+00 7.64925130e-01 3.40016967e+00\n",
            " 5.23669820e+00 4.31454971e+00 3.68532061e+01 7.02107167e+00\n",
            " 1.23338941e+01 1.05480397e+01 5.90668612e+00 8.47993425e+00\n",
            " 7.13314994e+00 6.43039357e+00 1.02034567e+01 1.04490766e+01\n",
            " 5.00292232e+00 1.11247945e+01 1.81914706e+01 7.14574000e+00\n",
            " 6.66715238e+00 7.42845181e+00 7.28449818e+00 5.17645553e+00\n",
            " 4.21287258e+00 5.88174412e+00 9.42084599e+00 9.45449201e+00\n",
            " 1.39414096e+01 8.50399091e+00 6.40034661e+00 2.60676149e+00\n",
            " 3.46260791e+00 7.21661001e+00 2.45464643e+00 6.60643125e+00\n",
            " 6.11514200e+00 6.10966292e+00 5.18539657e+00 3.78447223e+01\n",
            " 1.22587657e+01 5.04679880e+00 7.68045723e+00 5.93713994e+00\n",
            " 1.04240697e+01 6.47549620e+00 6.63310228e+00 6.05937374e+00\n",
            " 6.54940020e+00 9.40759318e+00 7.71245747e+00 3.09859526e+00\n",
            " 1.55181209e+00 9.30539624e+00 8.66105524e+00 6.04676703e+00\n",
            " 4.87087491e+00 9.35446982e+00 5.17020490e+00 6.07766102e+00\n",
            " 2.44507955e+00 1.56446354e+01 6.56979452e+00 3.10948903e+00\n",
            " 5.13922821e+00 5.27232026e+00 1.70434401e+00 4.28759781e+00\n",
            " 4.13146460e+00 5.94815804e+00 7.87706907e+00 1.74788285e+01\n",
            " 4.66670471e+00 5.99774229e+00 2.48220057e+00 1.38833550e+01\n",
            " 6.63164578e+00 5.27286644e+00 5.16721364e+00 6.72046114e+00\n",
            " 3.22301104e+00 6.69345041e+00 8.72257790e+00 1.30439075e+01\n",
            " 7.50796977e+00 7.54377279e+00 8.91029199e+00 7.53231285e+00\n",
            " 2.35691917e+00 1.65216399e+01 1.26564365e+01 7.28487674e+00\n",
            " 1.13987607e+01 5.99829958e+00 7.83383036e+00 3.13687110e+00\n",
            " 7.54968926e+00 6.11522304e+00 8.30506888e+00 2.66569892e+00\n",
            " 6.67399637e+00 3.17403514e+00 9.31998232e+00 4.04895782e+01\n",
            " 3.31738785e+01 1.32167369e+01 1.75755424e+01 7.31623033e+00\n",
            " 2.85613423e+00 7.61892126e+00 7.36311639e+00 2.50552370e+00]\n"
          ]
        },
        {
          "output_type": "display_data",
          "data": {
            "text/plain": [
              "<Figure size 432x288 with 1 Axes>"
            ],
            "image/png": "[encoded data removed]"
          },
          "metadata": {
            "needs_background": "light"
          }
        }
      ]
    },
    {
      "cell_type": "code",
      "metadata": {
        "id": "AvFdbmgRXel4"
      },
      "source": [],
      "execution_count": null,
      "outputs": []
    }
  ]
}